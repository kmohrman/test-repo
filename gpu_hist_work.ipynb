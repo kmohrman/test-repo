{
 "cells": [
  {
   "cell_type": "code",
   "execution_count": null,
   "id": "6a9e55a1-aac5-49cd-a7db-f97c94505e74",
   "metadata": {},
   "outputs": [],
   "source": [
    "import awkward as ak\n",
    "import cupy as cp\n",
    "import numpy as np\n",
    "\n",
    "from coffea.jitters import hist as gpu_hist"
   ]
  },
  {
   "cell_type": "code",
   "execution_count": null,
   "id": "5590c892-56ae-4e07-8470-20c32ee655c9",
   "metadata": {},
   "outputs": [],
   "source": [
    "N_dims = 4\n",
    "\n",
    "test_gpu = ak.Array(cp.random.multivariate_normal(\n",
    "    mean=np.zeros(shape=N_dims), \n",
    "    cov=np.eye(N_dims),\n",
    "    size=(200_000_000//N_dims),\n",
    "))"
   ]
  },
  {
   "cell_type": "code",
   "execution_count": null,
   "id": "0ac81839-97f1-4880-892f-0be03814e948",
   "metadata": {},
   "outputs": [],
   "source": [
    "hist_gpu = gpu_hist.Hist(\n",
    "    \"test\", \n",
    "    gpu_hist.Bin(\"x\", \"x coordinate\", 32, -5, 5),\n",
    "    gpu_hist.Bin(\"y\", \"y coordinate\", 32, -5, 5),\n",
    "    gpu_hist.Bin(\"z\", \"z coordinate\", 32, -5, 5),\n",
    "    gpu_hist.Bin(\"t\", \"t coordinate\", 32, -5, 5),\n",
    ")"
   ]
  },
  {
   "cell_type": "code",
   "execution_count": null,
   "id": "610d6a4f-6960-47c2-93ee-d27c034b519c",
   "metadata": {},
   "outputs": [],
   "source": [
    "%%timeit\n",
    "hist_gpu.fill(x=test_gpu[:, 0], y=test_gpu[:,1], z=test_gpu[:,2], t=test_gpu[:,3])"
   ]
  },
  {
   "cell_type": "code",
   "execution_count": null,
   "id": "634e3fb0-175b-4bda-9589-4cc4b037d43c",
   "metadata": {},
   "outputs": [],
   "source": [
    "%%timeit\n",
    "hist_gpu_cupy = cp.histogramdd(\n",
    "    ak.to_cupy(test_gpu),\n",
    "    bins=(32, 32, 32, 32),\n",
    "    range=[(-5, 5), (-5, 5), (-5, 5), (-5, 5)]\n",
    ")"
   ]
  },
  {
   "cell_type": "code",
   "execution_count": null,
   "id": "256b2124-f8f6-402d-854b-54db7668135a",
   "metadata": {},
   "outputs": [],
   "source": [
    "import hist"
   ]
  },
  {
   "cell_type": "code",
   "execution_count": null,
   "id": "adff5b15-410c-404d-adb0-b7624f19092b",
   "metadata": {},
   "outputs": [],
   "source": [
    "test_cpu = ak.to_backend(test_gpu, \"cpu\")"
   ]
  },
  {
   "cell_type": "code",
   "execution_count": null,
   "id": "7bcf7bf1-7a66-456c-b082-4c75eac91d07",
   "metadata": {},
   "outputs": [],
   "source": [
    "hist_cpu = hist.new.Reg(32, -5, 5).Reg(32, -5, 5).Reg(32, -5, 5).Reg(32, -5, 5).Weight()"
   ]
  },
  {
   "cell_type": "code",
   "execution_count": null,
   "id": "52fdbd60-f3ab-4827-b5a3-0f1c10ef9aef",
   "metadata": {},
   "outputs": [],
   "source": [
    "%%timeit\n",
    "hist_cpu.fill(test_cpu[:,0], test_cpu[:,1], test_cpu[:,2], test_cpu[:,3])"
   ]
  },
  {
   "cell_type": "code",
   "execution_count": null,
   "id": "76c97926-34b5-4dff-814f-01cd36e01abd",
   "metadata": {},
   "outputs": [],
   "source": [
    "hist_gpu.values()[()].get()"
   ]
  },
  {
   "cell_type": "code",
   "execution_count": null,
   "id": "40d2f1e5-749e-4e89-9638-1e78a1a9d28d",
   "metadata": {},
   "outputs": [],
   "source": [
    "gpu_hist.plot1d(hist_gpu)"
   ]
  },
  {
   "cell_type": "code",
   "execution_count": null,
   "id": "bce8b1df-049b-494c-b5e7-abe4354594ff",
   "metadata": {},
   "outputs": [],
   "source": [
    "import cudf\n",
    "cudf.__version__"
   ]
  },
  {
   "cell_type": "code",
   "execution_count": 1,
   "id": "4b8bfdb6-cbb9-44d6-afca-e6846b8a0f29",
   "metadata": {},
   "outputs": [],
   "source": [
    "import uproot\n",
    "import awkward as ak\n",
    "#import cupy as cp\n",
    "import cudf\n",
    "import pyarrow.parquet as pq\n",
    "import numpy as np\n",
    "from coffea.jitters import hist\n",
    "\n",
    "from ak_from_cudf import cudf_to_awkward\n",
    "\n",
    "root_filepath = \"/uscms_data/d2/lagray/Run2012B_SingleMu.root:Events\"\n",
    "#filepath = \"/uscms_data/d3/fstrug/temp/Run2012B_SingleMu_compressed_zstd.parquet\"\n",
    "#filepath = \"/uscms_data/d3/fstrug/temp/Run2012B_SingleMu_compressed_zstdlv3_PPv2-0_PLAIN.parquet\"\n",
    "#filepath = \"/uscms_data/d3/fstrug/temp/Run2012B_SingleMu_compressed_zstdlv3_Pv2-6_PPv2-0_PLAIN.parquet\"\n",
    "filepath = \"/uscms_data/d2/lagray/Run2012B_SingleMu_compressed_zstdlv3_PPv2-0_PLAIN.parquet\""
   ]
  },
  {
   "cell_type": "code",
   "execution_count": null,
   "id": "292b2660-ddae-4822-8148-ad791ce25b05",
   "metadata": {},
   "outputs": [],
   "source": [
    "%%time\n",
    "# Q1\n",
    "\n",
    "#MET_pt = ak.to_backend(ak.from_arrow(pq.read_table(filepath, columns=[\"MET_pt\"])[\"MET_pt\"]), \"cuda\")\n",
    "MET_pt = cudf_to_awkward(cudf.read_parquet(filepath, columns = [\"MET_pt\"])[\"MET_pt\"])\n",
    "q1_hist = hist.Hist(\n",
    "    \"Counts\",\n",
    "    hist.Bin(\"met\", \"$E_{T}^{miss}$ [GeV]\", 100, 0, 200),\n",
    ")\n",
    "q1_hist.fill(met=MET_pt)\n",
    "\n",
    "q1_hist.to_hist().plot1d(flow=\"none\");"
   ]
  },
  {
   "cell_type": "code",
   "execution_count": null,
   "id": "24edbdf2-4881-4464-89a6-d7dd2826ca0f",
   "metadata": {},
   "outputs": [],
   "source": [
    "%%time\n",
    "# Q2\n",
    "\n",
    "#Jet_pt = ak.to_backend(uproot.open(\"/uscms_data/d2/lagray/Run2012B_SingleMu.root:Events\")[\"Jet_pt\"].array(), \"cuda\")\n",
    "#Jet_pt = ak.to_backend(ak.from_arrow(pq.read_table(filepath, columns=[\"Jet_pt\"])[\"Jet_pt\"]), \"cuda\")\n",
    "Jet_pt = cudf_to_awkward(cudf.read_parquet(filepath, columns = [\"Jet_pt\"])[\"Jet_pt\"])\n",
    "q2_hist = hist.Hist(\n",
    "    \"Counts\",\n",
    "    hist.Bin(\"ptj\", \"Jet $p_{T}$ [GeV]\", 100, 0, 200),\n",
    ")\n",
    "q2_hist.fill(ptj=ak.flatten(Jet_pt))\n",
    "\n",
    "q2_hist.to_hist().plot1d(flow=\"none\");"
   ]
  },
  {
   "cell_type": "code",
   "execution_count": null,
   "id": "87465330-6f68-4718-be88-bb96ba284555",
   "metadata": {},
   "outputs": [],
   "source": [
    "%%time\n",
    "# Q3\n",
    "\n",
    "#jets = uproot.open(\n",
    "#    \"/uscms_data/d2/lagray/Run2012B_SingleMu.root:Events\"\n",
    "#).arrays(\n",
    "#    [\"Jet_pt\",\"Jet_eta\"],\n",
    "#)\n",
    "#Jet_pt = ak.to_backend(jets.Jet_pt, \"cuda\")\n",
    "#Jet_eta = ak.to_backend(jets.Jet_eta, \"cuda\")\n",
    "\n",
    "#table = ak.to_backend(ak.from_arrow(pq.read_table(filepath, columns=[\"Jet_pt\", \"Jet_eta\"])), \"cuda\")\n",
    "#Jet_pt = table.Jet_pt\n",
    "#Jet_eta = table.Jet_eta\n",
    "\n",
    "table = cudf.read_parquet(filepath, columns = [\"Jet_pt\", \"Jet_eta\"])\n",
    "Jet_pt = cudf_to_awkward(table[\"Jet_pt\"])\n",
    "Jet_eta = cudf_to_awkward(table[\"Jet_eta\"])\n",
    "\n",
    "q3_hist = hist.Hist(\n",
    "    \"Counts\",\n",
    "    hist.Bin(\"ptj\", \"Jet $p_{T}$ [GeV]\", 100, 0, 200),\n",
    ")\n",
    "q3_hist.fill(ptj=ak.flatten(Jet_pt[abs(Jet_eta) < 1.0]))\n",
    "\n",
    "q3_hist.to_hist().plot1d(flow=\"none\");"
   ]
  },
  {
   "cell_type": "code",
   "execution_count": null,
   "id": "af1f2fea-b97b-43ce-bfe6-e518ddc365e5",
   "metadata": {},
   "outputs": [],
   "source": [
    "%%time\n",
    "# Q4\n",
    "\n",
    "#jetmet = uproot.open(\n",
    "#    \"/uscms_data/d2/lagray/Run2012B_SingleMu.root:Events\"\n",
    "#).arrays(\n",
    "#    [\"Jet_pt\",\"MET_pt\"],\n",
    "#)\n",
    "\n",
    "#table = ak.to_backend(ak.from_arrow(pq.read_table(filepath, columns=[\"Jet_pt\", \"MET_pt\"])), \"cuda\")\n",
    "#Jet_pt = table.Jet_pt\n",
    "#MET_pt = table.MET_pt\n",
    "\n",
    "table = cudf.read_parquet(filepath, columns = [\"Jet_pt\", \"MET_pt\"])\n",
    "Jet_pt = cudf_to_awkward(table[\"Jet_pt\"])\n",
    "MET_pt = cudf_to_awkward(table[\"MET_pt\"])\n",
    "\n",
    "q4_hist = hist.Hist(\n",
    "    \"Counts\",\n",
    "    hist.Bin(\"met\", \"$E_{T}^{miss}$ [GeV]\", 100, 0, 200),\n",
    ")\n",
    "has2jets = ak.sum(Jet_pt > 40, axis=1) >= 2\n",
    "q4_hist.fill(met=MET_pt[has2jets])\n",
    "\n",
    "q4_hist.to_hist().plot1d(flow=\"none\");"
   ]
  },
  {
   "cell_type": "code",
   "execution_count": 2,
   "id": "6dd941fb-7e12-4d0f-b09b-6b0ed3454825",
   "metadata": {},
   "outputs": [
    {
     "name": "stderr",
     "output_type": "stream",
     "text": [
      "/home/lagray/coffea-gpu/coffea/src/coffea/nanoevents/methods/candidate.py:11: FutureWarning: In version 2024.7.0 (target date: 2024-06-30 11:59:59-05:00), this will be an error.\n",
      "To raise these warnings as errors (and get stack traces to find out where they're called), run\n",
      "    import warnings\n",
      "    warnings.filterwarnings(\"error\", module=\"coffea.*\")\n",
      "after the first `import coffea` or use `@pytest.mark.filterwarnings(\"error:::coffea.*\")` in pytest.\n",
      "Issue: coffea.nanoevents.methods.vector will be removed and replaced with scikit-hep vector. Nanoevents schemas internal to coffea will be migrated. Otherwise please consider using that package!.\n",
      "  from coffea.nanoevents.methods import vector\n"
     ]
    },
    {
     "ename": "ValueError",
     "evalue": "cannot convert to RegularArray because subarray lengths are not regular (in compiled code: https://github.com/scikit-hep/awkward/blob/awkward-cpp-35/awkward-cpp/src/cpu-kernels/awkward_ListOffsetArray_toRegularArray.cpp#L22)",
     "output_type": "error",
     "traceback": [
      "\u001b[0;31m---------------------------------------------------------------------------\u001b[0m",
      "\u001b[0;31mValueError\u001b[0m                                Traceback (most recent call last)",
      "File \u001b[0;32m<timed exec>:41\u001b[0m\n",
      "File \u001b[0;32m~/coffea-gpu/coffea/src/coffea/nanoevents/methods/vector.py:611\u001b[0m, in \u001b[0;36mLorentzVector.mass\u001b[0;34m(self)\u001b[0m\n\u001b[1;32m    605\u001b[0m \u001b[38;5;129m@property\u001b[39m\n\u001b[1;32m    606\u001b[0m \u001b[38;5;28;01mdef\u001b[39;00m \u001b[38;5;21mmass\u001b[39m(\u001b[38;5;28mself\u001b[39m):\n\u001b[1;32m    607\u001b[0m \u001b[38;5;250m    \u001b[39m\u001b[38;5;124mr\u001b[39m\u001b[38;5;124;03m\"\"\"Invariant mass (+, -, -, -)\u001b[39;00m\n\u001b[1;32m    608\u001b[0m \n\u001b[1;32m    609\u001b[0m \u001b[38;5;124;03m    :math:`\\sqrt{t^2-x^2-y^2-z^2}`\u001b[39;00m\n\u001b[1;32m    610\u001b[0m \u001b[38;5;124;03m    \"\"\"\u001b[39;00m\n\u001b[0;32m--> 611\u001b[0m     \u001b[38;5;28;01mreturn\u001b[39;00m numpy\u001b[38;5;241m.\u001b[39msqrt(\u001b[38;5;28;43mself\u001b[39;49m\u001b[38;5;241;43m.\u001b[39;49m\u001b[43mmass2\u001b[49m)\n",
      "File \u001b[0;32m~/coffea-gpu/coffea/src/coffea/nanoevents/methods/vector.py:602\u001b[0m, in \u001b[0;36mLorentzVector.mass2\u001b[0;34m(self)\u001b[0m\n\u001b[1;32m    600\u001b[0m \u001b[38;5;250m\u001b[39m\u001b[38;5;124;03m\"\"\"Squared `mass`\"\"\"\u001b[39;00m\n\u001b[1;32m    601\u001b[0m \u001b[38;5;28;01mif\u001b[39;00m awkward\u001b[38;5;241m.\u001b[39mbackend(\u001b[38;5;28mself\u001b[39m) \u001b[38;5;241m==\u001b[39m \u001b[38;5;124m\"\u001b[39m\u001b[38;5;124mcuda\u001b[39m\u001b[38;5;124m\"\u001b[39m:\n\u001b[0;32m--> 602\u001b[0m     \u001b[38;5;28;01mreturn\u001b[39;00m \u001b[43m_mass2_kernel_cuda\u001b[49m\u001b[43m(\u001b[49m\u001b[38;5;28;43mself\u001b[39;49m\u001b[38;5;241;43m.\u001b[39;49m\u001b[43mt\u001b[49m\u001b[43m,\u001b[49m\u001b[43m \u001b[49m\u001b[38;5;28;43mself\u001b[39;49m\u001b[38;5;241;43m.\u001b[39;49m\u001b[43mx\u001b[49m\u001b[43m,\u001b[49m\u001b[43m \u001b[49m\u001b[38;5;28;43mself\u001b[39;49m\u001b[38;5;241;43m.\u001b[39;49m\u001b[43my\u001b[49m\u001b[43m,\u001b[49m\u001b[43m \u001b[49m\u001b[38;5;28;43mself\u001b[39;49m\u001b[38;5;241;43m.\u001b[39;49m\u001b[43mz\u001b[49m\u001b[43m)\u001b[49m\n\u001b[1;32m    603\u001b[0m \u001b[38;5;28;01mreturn\u001b[39;00m _mass2_kernel(\u001b[38;5;28mself\u001b[39m\u001b[38;5;241m.\u001b[39mt, \u001b[38;5;28mself\u001b[39m\u001b[38;5;241m.\u001b[39mx, \u001b[38;5;28mself\u001b[39m\u001b[38;5;241m.\u001b[39my, \u001b[38;5;28mself\u001b[39m\u001b[38;5;241m.\u001b[39mz)\n",
      "File \u001b[0;32m~/.conda/envs/coffea-gpu/lib/python3.11/site-packages/numba/cuda/vectorizers.py:28\u001b[0m, in \u001b[0;36mCUDAUFuncDispatcher.__call__\u001b[0;34m(self, *args, **kws)\u001b[0m\n\u001b[1;32m     17\u001b[0m \u001b[38;5;28;01mdef\u001b[39;00m \u001b[38;5;21m__call__\u001b[39m(\u001b[38;5;28mself\u001b[39m, \u001b[38;5;241m*\u001b[39margs, \u001b[38;5;241m*\u001b[39m\u001b[38;5;241m*\u001b[39mkws):\n\u001b[1;32m     18\u001b[0m \u001b[38;5;250m    \u001b[39m\u001b[38;5;124;03m\"\"\"\u001b[39;00m\n\u001b[1;32m     19\u001b[0m \u001b[38;5;124;03m    *args: numpy arrays or DeviceArrayBase (created by cuda.to_device).\u001b[39;00m\n\u001b[1;32m     20\u001b[0m \u001b[38;5;124;03m           Cannot mix the two types in one call.\u001b[39;00m\n\u001b[0;32m   (...)\u001b[0m\n\u001b[1;32m     26\u001b[0m \u001b[38;5;124;03m                  the input arguments.\u001b[39;00m\n\u001b[1;32m     27\u001b[0m \u001b[38;5;124;03m    \"\"\"\u001b[39;00m\n\u001b[0;32m---> 28\u001b[0m     \u001b[38;5;28;01mreturn\u001b[39;00m \u001b[43mCUDAUFuncMechanism\u001b[49m\u001b[38;5;241;43m.\u001b[39;49m\u001b[43mcall\u001b[49m\u001b[43m(\u001b[49m\u001b[38;5;28;43mself\u001b[39;49m\u001b[38;5;241;43m.\u001b[39;49m\u001b[43mfunctions\u001b[49m\u001b[43m,\u001b[49m\u001b[43m \u001b[49m\u001b[43margs\u001b[49m\u001b[43m,\u001b[49m\u001b[43m \u001b[49m\u001b[43mkws\u001b[49m\u001b[43m)\u001b[49m\n",
      "File \u001b[0;32m~/.conda/envs/coffea-gpu/lib/python3.11/site-packages/numba/np/ufunc/deviceufunc.py:254\u001b[0m, in \u001b[0;36mUFuncMechanism.call\u001b[0;34m(cls, typemap, args, kws)\u001b[0m\n\u001b[1;32m    252\u001b[0m \u001b[38;5;66;03m# Begin call resolution\u001b[39;00m\n\u001b[1;32m    253\u001b[0m cr \u001b[38;5;241m=\u001b[39m \u001b[38;5;28mcls\u001b[39m(typemap, args)\n\u001b[0;32m--> 254\u001b[0m args \u001b[38;5;241m=\u001b[39m \u001b[43mcr\u001b[49m\u001b[38;5;241;43m.\u001b[39;49m\u001b[43mget_arguments\u001b[49m\u001b[43m(\u001b[49m\u001b[43m)\u001b[49m\n\u001b[1;32m    255\u001b[0m resty, func \u001b[38;5;241m=\u001b[39m cr\u001b[38;5;241m.\u001b[39mget_function()\n\u001b[1;32m    257\u001b[0m outshape \u001b[38;5;241m=\u001b[39m args[\u001b[38;5;241m0\u001b[39m]\u001b[38;5;241m.\u001b[39mshape\n",
      "File \u001b[0;32m~/.conda/envs/coffea-gpu/lib/python3.11/site-packages/numba/np/ufunc/deviceufunc.py:202\u001b[0m, in \u001b[0;36mUFuncMechanism.get_arguments\u001b[0;34m(self)\u001b[0m\n\u001b[1;32m    198\u001b[0m \u001b[38;5;28;01mdef\u001b[39;00m \u001b[38;5;21mget_arguments\u001b[39m(\u001b[38;5;28mself\u001b[39m):\n\u001b[1;32m    199\u001b[0m \u001b[38;5;250m    \u001b[39m\u001b[38;5;124;03m\"\"\"Prepare and return the arguments for the ufunc.\u001b[39;00m\n\u001b[1;32m    200\u001b[0m \u001b[38;5;124;03m    Does not call to_device().\u001b[39;00m\n\u001b[1;32m    201\u001b[0m \u001b[38;5;124;03m    \"\"\"\u001b[39;00m\n\u001b[0;32m--> 202\u001b[0m     \u001b[38;5;28;43mself\u001b[39;49m\u001b[38;5;241;43m.\u001b[39;49m\u001b[43m_fill_arrays\u001b[49m\u001b[43m(\u001b[49m\u001b[43m)\u001b[49m\n\u001b[1;32m    203\u001b[0m     \u001b[38;5;28mself\u001b[39m\u001b[38;5;241m.\u001b[39m_fill_argtypes()\n\u001b[1;32m    204\u001b[0m     \u001b[38;5;28mself\u001b[39m\u001b[38;5;241m.\u001b[39m_resolve_signature()\n",
      "File \u001b[0;32m~/.conda/envs/coffea-gpu/lib/python3.11/site-packages/numba/np/ufunc/deviceufunc.py:100\u001b[0m, in \u001b[0;36mUFuncMechanism._fill_arrays\u001b[0;34m(self)\u001b[0m\n\u001b[1;32m     98\u001b[0m     \u001b[38;5;28mself\u001b[39m\u001b[38;5;241m.\u001b[39mscalarpos\u001b[38;5;241m.\u001b[39mappend(i)\n\u001b[1;32m     99\u001b[0m \u001b[38;5;28;01melse\u001b[39;00m:\n\u001b[0;32m--> 100\u001b[0m     \u001b[38;5;28mself\u001b[39m\u001b[38;5;241m.\u001b[39marrays[i] \u001b[38;5;241m=\u001b[39m \u001b[43mnp\u001b[49m\u001b[38;5;241;43m.\u001b[39;49m\u001b[43masarray\u001b[49m\u001b[43m(\u001b[49m\u001b[43marg\u001b[49m\u001b[43m)\u001b[49m\n",
      "File \u001b[0;32m~/coffea-gpu/awkward/src/awkward/highlevel.py:1434\u001b[0m, in \u001b[0;36mArray.__array__\u001b[0;34m(self, dtype)\u001b[0m\n\u001b[1;32m   1429\u001b[0m \u001b[38;5;28;01mwith\u001b[39;00m ak\u001b[38;5;241m.\u001b[39m_errors\u001b[38;5;241m.\u001b[39mOperationErrorContext(\n\u001b[1;32m   1430\u001b[0m     \u001b[38;5;124m\"\u001b[39m\u001b[38;5;124mnumpy.asarray\u001b[39m\u001b[38;5;124m\"\u001b[39m, (\u001b[38;5;28mself\u001b[39m,), {\u001b[38;5;124m\"\u001b[39m\u001b[38;5;124mdtype\u001b[39m\u001b[38;5;124m\"\u001b[39m: dtype}\n\u001b[1;32m   1431\u001b[0m ):\n\u001b[1;32m   1432\u001b[0m     \u001b[38;5;28;01mfrom\u001b[39;00m \u001b[38;5;21;01mawkward\u001b[39;00m\u001b[38;5;21;01m.\u001b[39;00m\u001b[38;5;21;01m_connect\u001b[39;00m\u001b[38;5;21;01m.\u001b[39;00m\u001b[38;5;21;01mnumpy\u001b[39;00m \u001b[38;5;28;01mimport\u001b[39;00m convert_to_array\n\u001b[0;32m-> 1434\u001b[0m     \u001b[38;5;28;01mreturn\u001b[39;00m \u001b[43mconvert_to_array\u001b[49m\u001b[43m(\u001b[49m\u001b[38;5;28;43mself\u001b[39;49m\u001b[38;5;241;43m.\u001b[39;49m\u001b[43m_layout\u001b[49m\u001b[43m,\u001b[49m\u001b[43m \u001b[49m\u001b[43mdtype\u001b[49m\u001b[38;5;241;43m=\u001b[39;49m\u001b[43mdtype\u001b[49m\u001b[43m)\u001b[49m\n",
      "File \u001b[0;32m~/coffea-gpu/awkward/src/awkward/_connect/numpy.py:481\u001b[0m, in \u001b[0;36mconvert_to_array\u001b[0;34m(layout, dtype)\u001b[0m\n\u001b[1;32m    480\u001b[0m \u001b[38;5;28;01mdef\u001b[39;00m \u001b[38;5;21mconvert_to_array\u001b[39m(layout, dtype\u001b[38;5;241m=\u001b[39m\u001b[38;5;28;01mNone\u001b[39;00m):\n\u001b[0;32m--> 481\u001b[0m     out \u001b[38;5;241m=\u001b[39m \u001b[43mak\u001b[49m\u001b[38;5;241;43m.\u001b[39;49m\u001b[43moperations\u001b[49m\u001b[38;5;241;43m.\u001b[39;49m\u001b[43mto_numpy\u001b[49m\u001b[43m(\u001b[49m\u001b[43mlayout\u001b[49m\u001b[43m,\u001b[49m\u001b[43m \u001b[49m\u001b[43mallow_missing\u001b[49m\u001b[38;5;241;43m=\u001b[39;49m\u001b[38;5;28;43;01mFalse\u001b[39;49;00m\u001b[43m)\u001b[49m\n\u001b[1;32m    482\u001b[0m     \u001b[38;5;28;01mif\u001b[39;00m dtype \u001b[38;5;129;01mis\u001b[39;00m \u001b[38;5;28;01mNone\u001b[39;00m:\n\u001b[1;32m    483\u001b[0m         \u001b[38;5;28;01mreturn\u001b[39;00m out\n",
      "File \u001b[0;32m~/coffea-gpu/awkward/src/awkward/_dispatch.py:64\u001b[0m, in \u001b[0;36mnamed_high_level_function.<locals>.dispatch\u001b[0;34m(*args, **kwargs)\u001b[0m\n\u001b[1;32m     62\u001b[0m \u001b[38;5;66;03m# Failed to find a custom overload, so resume the original function\u001b[39;00m\n\u001b[1;32m     63\u001b[0m \u001b[38;5;28;01mtry\u001b[39;00m:\n\u001b[0;32m---> 64\u001b[0m     \u001b[38;5;28mnext\u001b[39m(gen_or_result)\n\u001b[1;32m     65\u001b[0m \u001b[38;5;28;01mexcept\u001b[39;00m \u001b[38;5;167;01mStopIteration\u001b[39;00m \u001b[38;5;28;01mas\u001b[39;00m err:\n\u001b[1;32m     66\u001b[0m     \u001b[38;5;28;01mreturn\u001b[39;00m err\u001b[38;5;241m.\u001b[39mvalue\n",
      "File \u001b[0;32m~/coffea-gpu/awkward/src/awkward/operations/ak_to_numpy.py:48\u001b[0m, in \u001b[0;36mto_numpy\u001b[0;34m(array, allow_missing)\u001b[0m\n\u001b[1;32m     45\u001b[0m \u001b[38;5;28;01myield\u001b[39;00m (array,)\n\u001b[1;32m     47\u001b[0m \u001b[38;5;66;03m# Implementation\u001b[39;00m\n\u001b[0;32m---> 48\u001b[0m \u001b[38;5;28;01mreturn\u001b[39;00m \u001b[43m_impl\u001b[49m\u001b[43m(\u001b[49m\u001b[43marray\u001b[49m\u001b[43m,\u001b[49m\u001b[43m \u001b[49m\u001b[43mallow_missing\u001b[49m\u001b[43m)\u001b[49m\n",
      "File \u001b[0;32m~/coffea-gpu/awkward/src/awkward/operations/ak_to_numpy.py:60\u001b[0m, in \u001b[0;36m_impl\u001b[0;34m(array, allow_missing)\u001b[0m\n\u001b[1;32m     57\u001b[0m backend \u001b[38;5;241m=\u001b[39m NumpyBackend\u001b[38;5;241m.\u001b[39minstance()\n\u001b[1;32m     58\u001b[0m numpy_layout \u001b[38;5;241m=\u001b[39m layout\u001b[38;5;241m.\u001b[39mto_backend(backend)\n\u001b[0;32m---> 60\u001b[0m \u001b[38;5;28;01mreturn\u001b[39;00m \u001b[43mnumpy_layout\u001b[49m\u001b[38;5;241;43m.\u001b[39;49m\u001b[43mto_backend_array\u001b[49m\u001b[43m(\u001b[49m\u001b[43mallow_missing\u001b[49m\u001b[38;5;241;43m=\u001b[39;49m\u001b[43mallow_missing\u001b[49m\u001b[43m)\u001b[49m\n",
      "File \u001b[0;32m~/coffea-gpu/awkward/src/awkward/contents/content.py:1020\u001b[0m, in \u001b[0;36mContent.to_backend_array\u001b[0;34m(self, allow_missing, backend)\u001b[0m\n\u001b[1;32m   1018\u001b[0m \u001b[38;5;28;01melse\u001b[39;00m:\n\u001b[1;32m   1019\u001b[0m     backend \u001b[38;5;241m=\u001b[39m regularize_backend(backend)\n\u001b[0;32m-> 1020\u001b[0m \u001b[38;5;28;01mreturn\u001b[39;00m \u001b[38;5;28;43mself\u001b[39;49m\u001b[38;5;241;43m.\u001b[39;49m\u001b[43m_to_backend_array\u001b[49m\u001b[43m(\u001b[49m\u001b[43mallow_missing\u001b[49m\u001b[43m,\u001b[49m\u001b[43m \u001b[49m\u001b[43mbackend\u001b[49m\u001b[43m)\u001b[49m\n",
      "File \u001b[0;32m~/coffea-gpu/awkward/src/awkward/contents/listoffsetarray.py:2072\u001b[0m, in \u001b[0;36mListOffsetArray._to_backend_array\u001b[0;34m(self, allow_missing, backend)\u001b[0m\n\u001b[1;32m   2070\u001b[0m     \u001b[38;5;28;01mreturn\u001b[39;00m buffer\u001b[38;5;241m.\u001b[39mview(np\u001b[38;5;241m.\u001b[39mdtype((\u001b[38;5;124m\"\u001b[39m\u001b[38;5;124mS\u001b[39m\u001b[38;5;124m\"\u001b[39m, max_count)))\n\u001b[1;32m   2071\u001b[0m \u001b[38;5;28;01melse\u001b[39;00m:\n\u001b[0;32m-> 2072\u001b[0m     \u001b[38;5;28;01mreturn\u001b[39;00m \u001b[38;5;28;43mself\u001b[39;49m\u001b[38;5;241;43m.\u001b[39;49m\u001b[43mto_RegularArray\u001b[49m\u001b[43m(\u001b[49m\u001b[43m)\u001b[49m\u001b[38;5;241m.\u001b[39m_to_backend_array(allow_missing, backend)\n",
      "File \u001b[0;32m~/coffea-gpu/awkward/src/awkward/contents/listoffsetarray.py:283\u001b[0m, in \u001b[0;36mListOffsetArray.to_RegularArray\u001b[0;34m(self)\u001b[0m\n\u001b[1;32m    278\u001b[0m _size \u001b[38;5;241m=\u001b[39m Index64\u001b[38;5;241m.\u001b[39mempty(\u001b[38;5;241m1\u001b[39m, \u001b[38;5;28mself\u001b[39m\u001b[38;5;241m.\u001b[39m_backend\u001b[38;5;241m.\u001b[39mindex_nplike)\n\u001b[1;32m    279\u001b[0m \u001b[38;5;28;01massert\u001b[39;00m (\n\u001b[1;32m    280\u001b[0m     _size\u001b[38;5;241m.\u001b[39mnplike \u001b[38;5;129;01mis\u001b[39;00m \u001b[38;5;28mself\u001b[39m\u001b[38;5;241m.\u001b[39m_backend\u001b[38;5;241m.\u001b[39mindex_nplike\n\u001b[1;32m    281\u001b[0m     \u001b[38;5;129;01mand\u001b[39;00m \u001b[38;5;28mself\u001b[39m\u001b[38;5;241m.\u001b[39m_offsets\u001b[38;5;241m.\u001b[39mnplike \u001b[38;5;129;01mis\u001b[39;00m \u001b[38;5;28mself\u001b[39m\u001b[38;5;241m.\u001b[39m_backend\u001b[38;5;241m.\u001b[39mindex_nplike\n\u001b[1;32m    282\u001b[0m )\n\u001b[0;32m--> 283\u001b[0m \u001b[38;5;28;43mself\u001b[39;49m\u001b[38;5;241;43m.\u001b[39;49m\u001b[43m_backend\u001b[49m\u001b[38;5;241;43m.\u001b[39;49m\u001b[43mmaybe_kernel_error\u001b[49m\u001b[43m(\u001b[49m\n\u001b[1;32m    284\u001b[0m \u001b[43m    \u001b[49m\u001b[38;5;28;43mself\u001b[39;49m\u001b[38;5;241;43m.\u001b[39;49m\u001b[43m_backend\u001b[49m\u001b[43m[\u001b[49m\n\u001b[1;32m    285\u001b[0m \u001b[43m        \u001b[49m\u001b[38;5;124;43m\"\u001b[39;49m\u001b[38;5;124;43mawkward_ListOffsetArray_toRegularArray\u001b[39;49m\u001b[38;5;124;43m\"\u001b[39;49m\u001b[43m,\u001b[49m\n\u001b[1;32m    286\u001b[0m \u001b[43m        \u001b[49m\u001b[43m_size\u001b[49m\u001b[38;5;241;43m.\u001b[39;49m\u001b[43mdtype\u001b[49m\u001b[38;5;241;43m.\u001b[39;49m\u001b[43mtype\u001b[49m\u001b[43m,\u001b[49m\n\u001b[1;32m    287\u001b[0m \u001b[43m        \u001b[49m\u001b[38;5;28;43mself\u001b[39;49m\u001b[38;5;241;43m.\u001b[39;49m\u001b[43m_offsets\u001b[49m\u001b[38;5;241;43m.\u001b[39;49m\u001b[43mdtype\u001b[49m\u001b[38;5;241;43m.\u001b[39;49m\u001b[43mtype\u001b[49m\u001b[43m,\u001b[49m\n\u001b[1;32m    288\u001b[0m \u001b[43m    \u001b[49m\u001b[43m]\u001b[49m\u001b[43m(\u001b[49m\n\u001b[1;32m    289\u001b[0m \u001b[43m        \u001b[49m\u001b[43m_size\u001b[49m\u001b[38;5;241;43m.\u001b[39;49m\u001b[43mdata\u001b[49m\u001b[43m,\u001b[49m\n\u001b[1;32m    290\u001b[0m \u001b[43m        \u001b[49m\u001b[38;5;28;43mself\u001b[39;49m\u001b[38;5;241;43m.\u001b[39;49m\u001b[43m_offsets\u001b[49m\u001b[38;5;241;43m.\u001b[39;49m\u001b[43mdata\u001b[49m\u001b[43m,\u001b[49m\n\u001b[1;32m    291\u001b[0m \u001b[43m        \u001b[49m\u001b[38;5;28;43mself\u001b[39;49m\u001b[38;5;241;43m.\u001b[39;49m\u001b[43m_offsets\u001b[49m\u001b[38;5;241;43m.\u001b[39;49m\u001b[43mlength\u001b[49m\u001b[43m,\u001b[49m\n\u001b[1;32m    292\u001b[0m \u001b[43m    \u001b[49m\u001b[43m)\u001b[49m\n\u001b[1;32m    293\u001b[0m \u001b[43m\u001b[49m\u001b[43m)\u001b[49m\n\u001b[1;32m    294\u001b[0m size \u001b[38;5;241m=\u001b[39m \u001b[38;5;28mself\u001b[39m\u001b[38;5;241m.\u001b[39m_backend\u001b[38;5;241m.\u001b[39mindex_nplike\u001b[38;5;241m.\u001b[39mindex_as_shape_item(_size[\u001b[38;5;241m0\u001b[39m])\n\u001b[1;32m    295\u001b[0m length \u001b[38;5;241m=\u001b[39m \u001b[38;5;28mself\u001b[39m\u001b[38;5;241m.\u001b[39m_offsets\u001b[38;5;241m.\u001b[39mlength \u001b[38;5;241m-\u001b[39m \u001b[38;5;241m1\u001b[39m\n",
      "File \u001b[0;32m~/coffea-gpu/awkward/src/awkward/_backends/backend.py:67\u001b[0m, in \u001b[0;36mBackend.maybe_kernel_error\u001b[0;34m(self, error)\u001b[0m\n\u001b[1;32m     65\u001b[0m     \u001b[38;5;28;01mreturn\u001b[39;00m\n\u001b[1;32m     66\u001b[0m \u001b[38;5;28;01melse\u001b[39;00m:\n\u001b[0;32m---> 67\u001b[0m     \u001b[38;5;28;01mraise\u001b[39;00m \u001b[38;5;167;01mValueError\u001b[39;00m(\u001b[38;5;28mself\u001b[39m\u001b[38;5;241m.\u001b[39mformat_kernel_error(error))\n",
      "\u001b[0;31mValueError\u001b[0m: cannot convert to RegularArray because subarray lengths are not regular (in compiled code: https://github.com/scikit-hep/awkward/blob/awkward-cpp-35/awkward-cpp/src/cpu-kernels/awkward_ListOffsetArray_toRegularArray.cpp#L22)",
      "\u001b[0m\nThis error occurred while calling\n\n    numpy.asarray(\n        <Array [[], [], [...], [], ..., [], [], []] type='10 * var * ?float32'>\n        dtype = None\n    )"
     ]
    }
   ],
   "source": [
    "%%time\n",
    "# Q5\n",
    "\n",
    "from coffea.nanoevents.methods import candidate\n",
    "\n",
    "table = cudf.read_parquet(\n",
    "    filepath, \n",
    "    columns = [\n",
    "        \"MET_pt\", \n",
    "        \"Muon_pt\", \n",
    "        \"Muon_eta\", \n",
    "        \"Muon_phi\", \n",
    "        \"Muon_mass\",\n",
    "        \"Muon_charge\",\n",
    "    ]\n",
    ")\n",
    "MET_pt = cudf_to_awkward(table[\"MET_pt\"])\n",
    "Muon_pt = cudf_to_awkward(table[\"Muon_pt\"])\n",
    "Muon_eta = cudf_to_awkward(table[\"Muon_eta\"])\n",
    "Muon_phi = cudf_to_awkward(table[\"Muon_phi\"])\n",
    "Muon_mass = cudf_to_awkward(table[\"Muon_mass\"])\n",
    "Muon_charge = cudf_to_awkward(table[\"Muon_charge\"])\n",
    "\n",
    "q5_hist = hist.Hist(\n",
    "    \"Counts\",\n",
    "    hist.Bin(\"met\", \"$E_{T}^{miss}$ [GeV]\", 100, 0, 200),\n",
    ")\n",
    "\n",
    "Muon = ak.zip(\n",
    "    {\n",
    "        \"pt\": Muon_pt,\n",
    "        \"eta\": Muon_eta,\n",
    "        \"phi\": Muon_phi,\n",
    "        \"mass\": Muon_mass,\n",
    "        \"charge\": Muon_charge,\n",
    "    },\n",
    "    with_name=\"PtEtaPhiMCandidate\",\n",
    "    behavior=candidate.behavior,\n",
    ")[0:10]\n",
    "\n",
    "mupair = ak.combinations(Muon, 2, fields=[\"mu1\", \"mu2\"])\n",
    "pairmass = (mupair.mu1 + mupair.mu2).mass\n",
    "goodevent = ak.any(\n",
    "    (pairmass > 60)\n",
    "    & (pairmass < 120)\n",
    "    & (mupair.mu1.charge == -mupair.mu2.charge),\n",
    "    axis=1,\n",
    ")\n",
    "\n",
    "q5_hist.fill(MET_pt[goodevent])\n",
    "\n",
    "\n",
    "q5_hist.to_hist().plot1d(flow=\"none\");"
   ]
  },
  {
   "cell_type": "code",
   "execution_count": null,
   "id": "700ee652-e9dc-4cf5-b985-60cbcffad9ed",
   "metadata": {},
   "outputs": [],
   "source": [
    "jetmet = uproot.open(\n",
    "    \"/uscms_data/d2/lagray/Run2012B_SingleMu.root:Events\"\n",
    ").arrays(\n",
    "    [\"Jet_pt\",\"MET_pt\"],\n",
    ")\n",
    "\n",
    "Jet_pt = ak.to_backend(jetmet.Jet_pt, \"cuda\")\n",
    "\n",
    "ak.combinations(Jet_pt, 2)"
   ]
  },
  {
   "cell_type": "code",
   "execution_count": null,
   "id": "839cffd4-3f1d-466e-ab40-1e0848d3b939",
   "metadata": {},
   "outputs": [],
   "source": [
    "import fastparquet"
   ]
  },
  {
   "cell_type": "code",
   "execution_count": null,
   "id": "f37cd380-0e1b-4741-843c-883ae34a3e0c",
   "metadata": {},
   "outputs": [],
   "source": [
    "from hepconvert import root_to_parquet\n",
    "\n",
    "root_to_parquet(in_file = \"/uscms_data/d3/fstrug/temp/Run2012B_SingleMu.root\",\n",
    "                out_file = \"/uscms_data/d2/lagray/Run2012B_SingleMu_compressed_zstdlv3_PPv2-0_PLAIN.parquet\",\n",
    "                tree=\"Events\",\n",
    "                compression = \"zstd\",\n",
    "                compression_level = 3,\n",
    "                extensionarray=False,\n",
    "                parquet_version=\"2.6\",\n",
    "                parquet_page_version=\"2.0\",\n",
    "                parquet_extra_options = {\"column_encoding\": \"PLAIN\"}\n",
    "               )"
   ]
  },
  {
   "cell_type": "code",
   "execution_count": null,
   "id": "875d5b01-dee4-4c3f-b04d-52ca66a13b7c",
   "metadata": {},
   "outputs": [],
   "source": [
    "import torch"
   ]
  },
  {
   "cell_type": "code",
   "execution_count": 1,
   "id": "4145e983-d188-4e0b-8ac7-4fc8e394c6d2",
   "metadata": {},
   "outputs": [
    {
     "name": "stdout",
     "output_type": "stream",
     "text": [
      "[[0.151], [0.00807, 2.34], ..., [6.53], [0.0751, 1.42, 0.0131, 1.78, 0.0162]]\n"
     ]
    },
    {
     "ename": "LinkerError",
     "evalue": "[222] Call to cuLinkAddData results in CUDA_ERROR_UNSUPPORTED_PTX_VERSION\nptxas application ptx input, line 9; fatal   : Unsupported .version 8.4; current version is '8.2'",
     "output_type": "error",
     "traceback": [
      "\u001b[0;31m---------------------------------------------------------------------------\u001b[0m",
      "\u001b[0;31mCudaAPIError\u001b[0m                              Traceback (most recent call last)",
      "File \u001b[0;32m~/.conda/envs/coffea-gpu/lib/python3.11/site-packages/numba/cuda/cudadrv/driver.py:2824\u001b[0m, in \u001b[0;36mCtypesLinker.add_ptx\u001b[0;34m(self, ptx, name)\u001b[0m\n\u001b[1;32m   2823\u001b[0m \u001b[38;5;28;01mtry\u001b[39;00m:\n\u001b[0;32m-> 2824\u001b[0m     \u001b[43mdriver\u001b[49m\u001b[38;5;241;43m.\u001b[39;49m\u001b[43mcuLinkAddData\u001b[49m\u001b[43m(\u001b[49m\u001b[38;5;28;43mself\u001b[39;49m\u001b[38;5;241;43m.\u001b[39;49m\u001b[43mhandle\u001b[49m\u001b[43m,\u001b[49m\u001b[43m \u001b[49m\u001b[43menums\u001b[49m\u001b[38;5;241;43m.\u001b[39;49m\u001b[43mCU_JIT_INPUT_PTX\u001b[49m\u001b[43m,\u001b[49m\n\u001b[1;32m   2825\u001b[0m \u001b[43m                         \u001b[49m\u001b[43mptxbuf\u001b[49m\u001b[43m,\u001b[49m\u001b[43m \u001b[49m\u001b[38;5;28;43mlen\u001b[39;49m\u001b[43m(\u001b[49m\u001b[43mptx\u001b[49m\u001b[43m)\u001b[49m\u001b[43m,\u001b[49m\u001b[43m \u001b[49m\u001b[43mnamebuf\u001b[49m\u001b[43m,\u001b[49m\u001b[43m \u001b[49m\u001b[38;5;241;43m0\u001b[39;49m\u001b[43m,\u001b[49m\u001b[43m \u001b[49m\u001b[38;5;28;43;01mNone\u001b[39;49;00m\u001b[43m,\u001b[49m\u001b[43m \u001b[49m\u001b[38;5;28;43;01mNone\u001b[39;49;00m\u001b[43m)\u001b[49m\n\u001b[1;32m   2826\u001b[0m \u001b[38;5;28;01mexcept\u001b[39;00m CudaAPIError \u001b[38;5;28;01mas\u001b[39;00m e:\n",
      "File \u001b[0;32m~/.conda/envs/coffea-gpu/lib/python3.11/site-packages/numba/cuda/cudadrv/driver.py:327\u001b[0m, in \u001b[0;36mDriver._ctypes_wrap_fn.<locals>.safe_cuda_api_call\u001b[0;34m(*args)\u001b[0m\n\u001b[1;32m    326\u001b[0m retcode \u001b[38;5;241m=\u001b[39m libfn(\u001b[38;5;241m*\u001b[39margs)\n\u001b[0;32m--> 327\u001b[0m \u001b[38;5;28;43mself\u001b[39;49m\u001b[38;5;241;43m.\u001b[39;49m\u001b[43m_check_ctypes_error\u001b[49m\u001b[43m(\u001b[49m\u001b[43mfname\u001b[49m\u001b[43m,\u001b[49m\u001b[43m \u001b[49m\u001b[43mretcode\u001b[49m\u001b[43m)\u001b[49m\n",
      "File \u001b[0;32m~/.conda/envs/coffea-gpu/lib/python3.11/site-packages/numba/cuda/cudadrv/driver.py:395\u001b[0m, in \u001b[0;36mDriver._check_ctypes_error\u001b[0;34m(self, fname, retcode)\u001b[0m\n\u001b[1;32m    394\u001b[0m     \u001b[38;5;28mself\u001b[39m\u001b[38;5;241m.\u001b[39m_detect_fork()\n\u001b[0;32m--> 395\u001b[0m \u001b[38;5;28;01mraise\u001b[39;00m CudaAPIError(retcode, msg)\n",
      "\u001b[0;31mCudaAPIError\u001b[0m: [222] Call to cuLinkAddData results in CUDA_ERROR_UNSUPPORTED_PTX_VERSION",
      "\nDuring handling of the above exception, another exception occurred:\n",
      "\u001b[0;31mLinkerError\u001b[0m                               Traceback (most recent call last)",
      "Cell \u001b[0;32mIn[1], line 39\u001b[0m\n\u001b[1;32m     35\u001b[0m values2_cpu \u001b[38;5;241m=\u001b[39m _square(ak\u001b[38;5;241m.\u001b[39mto_backend(values, \u001b[38;5;124m\"\u001b[39m\u001b[38;5;124mcpu\u001b[39m\u001b[38;5;124m\"\u001b[39m))\n\u001b[1;32m     37\u001b[0m \u001b[38;5;28mprint\u001b[39m(values2_cpu)\n\u001b[0;32m---> 39\u001b[0m values2 \u001b[38;5;241m=\u001b[39m \u001b[43msquare_cuda_wrapped\u001b[49m\u001b[43m(\u001b[49m\u001b[43mvalues\u001b[49m\u001b[43m)\u001b[49m\n\u001b[1;32m     41\u001b[0m \u001b[38;5;28mprint\u001b[39m(values2)\n",
      "Cell \u001b[0;32mIn[1], line 28\u001b[0m, in \u001b[0;36msquare_cuda_wrapped\u001b[0;34m(x)\u001b[0m\n\u001b[1;32m     26\u001b[0m \u001b[38;5;28;01mdef\u001b[39;00m \u001b[38;5;21msquare_cuda_wrapped\u001b[39m(x):\n\u001b[1;32m     27\u001b[0m     counts \u001b[38;5;241m=\u001b[39m x\u001b[38;5;241m.\u001b[39mlayout\u001b[38;5;241m.\u001b[39moffsets\u001b[38;5;241m.\u001b[39mdata[\u001b[38;5;241m1\u001b[39m:] \u001b[38;5;241m-\u001b[39m x\u001b[38;5;241m.\u001b[39mlayout\u001b[38;5;241m.\u001b[39moffsets\u001b[38;5;241m.\u001b[39mdata[:\u001b[38;5;241m-\u001b[39m\u001b[38;5;241m1\u001b[39m]\n\u001b[0;32m---> 28\u001b[0m     \u001b[38;5;28;01mreturn\u001b[39;00m ak\u001b[38;5;241m.\u001b[39munflatten(cp\u001b[38;5;241m.\u001b[39marray(\u001b[43m_square_cuda\u001b[49m\u001b[43m(\u001b[49m\u001b[43mak\u001b[49m\u001b[38;5;241;43m.\u001b[39;49m\u001b[43mflatten\u001b[49m\u001b[43m(\u001b[49m\u001b[43mx\u001b[49m\u001b[43m)\u001b[49m\u001b[43m)\u001b[49m), counts)\n",
      "File \u001b[0;32m~/.conda/envs/coffea-gpu/lib/python3.11/site-packages/numba/cuda/vectorizers.py:28\u001b[0m, in \u001b[0;36mCUDAUFuncDispatcher.__call__\u001b[0;34m(self, *args, **kws)\u001b[0m\n\u001b[1;32m     17\u001b[0m \u001b[38;5;28;01mdef\u001b[39;00m \u001b[38;5;21m__call__\u001b[39m(\u001b[38;5;28mself\u001b[39m, \u001b[38;5;241m*\u001b[39margs, \u001b[38;5;241m*\u001b[39m\u001b[38;5;241m*\u001b[39mkws):\n\u001b[1;32m     18\u001b[0m \u001b[38;5;250m    \u001b[39m\u001b[38;5;124;03m\"\"\"\u001b[39;00m\n\u001b[1;32m     19\u001b[0m \u001b[38;5;124;03m    *args: numpy arrays or DeviceArrayBase (created by cuda.to_device).\u001b[39;00m\n\u001b[1;32m     20\u001b[0m \u001b[38;5;124;03m           Cannot mix the two types in one call.\u001b[39;00m\n\u001b[0;32m   (...)\u001b[0m\n\u001b[1;32m     26\u001b[0m \u001b[38;5;124;03m                  the input arguments.\u001b[39;00m\n\u001b[1;32m     27\u001b[0m \u001b[38;5;124;03m    \"\"\"\u001b[39;00m\n\u001b[0;32m---> 28\u001b[0m     \u001b[38;5;28;01mreturn\u001b[39;00m \u001b[43mCUDAUFuncMechanism\u001b[49m\u001b[38;5;241;43m.\u001b[39;49m\u001b[43mcall\u001b[49m\u001b[43m(\u001b[49m\u001b[38;5;28;43mself\u001b[39;49m\u001b[38;5;241;43m.\u001b[39;49m\u001b[43mfunctions\u001b[49m\u001b[43m,\u001b[49m\u001b[43m \u001b[49m\u001b[43margs\u001b[49m\u001b[43m,\u001b[49m\u001b[43m \u001b[49m\u001b[43mkws\u001b[49m\u001b[43m)\u001b[49m\n",
      "File \u001b[0;32m~/.conda/envs/coffea-gpu/lib/python3.11/site-packages/numba/np/ufunc/deviceufunc.py:301\u001b[0m, in \u001b[0;36mUFuncMechanism.call\u001b[0;34m(cls, typemap, args, kws)\u001b[0m\n\u001b[1;32m    298\u001b[0m devout \u001b[38;5;241m=\u001b[39m cr\u001b[38;5;241m.\u001b[39mallocate_device_array(shape, resty, stream\u001b[38;5;241m=\u001b[39mstream)\n\u001b[1;32m    300\u001b[0m devarys\u001b[38;5;241m.\u001b[39mextend([devout])\n\u001b[0;32m--> 301\u001b[0m \u001b[43mcr\u001b[49m\u001b[38;5;241;43m.\u001b[39;49m\u001b[43mlaunch\u001b[49m\u001b[43m(\u001b[49m\u001b[43mfunc\u001b[49m\u001b[43m,\u001b[49m\u001b[43m \u001b[49m\u001b[43mshape\u001b[49m\u001b[43m[\u001b[49m\u001b[38;5;241;43m0\u001b[39;49m\u001b[43m]\u001b[49m\u001b[43m,\u001b[49m\u001b[43m \u001b[49m\u001b[43mstream\u001b[49m\u001b[43m,\u001b[49m\u001b[43m \u001b[49m\u001b[43mdevarys\u001b[49m\u001b[43m)\u001b[49m\n\u001b[1;32m    303\u001b[0m \u001b[38;5;28;01mif\u001b[39;00m any_device:\n\u001b[1;32m    304\u001b[0m     \u001b[38;5;66;03m# If any of the arguments are on device,\u001b[39;00m\n\u001b[1;32m    305\u001b[0m     \u001b[38;5;66;03m# Keep output on the device\u001b[39;00m\n\u001b[1;32m    306\u001b[0m     \u001b[38;5;28;01mreturn\u001b[39;00m devout\u001b[38;5;241m.\u001b[39mreshape(outshape)\n",
      "File \u001b[0;32m~/.conda/envs/coffea-gpu/lib/python3.11/site-packages/numba/cuda/vectorizers.py:151\u001b[0m, in \u001b[0;36mCUDAUFuncMechanism.launch\u001b[0;34m(self, func, count, stream, args)\u001b[0m\n\u001b[1;32m    150\u001b[0m \u001b[38;5;28;01mdef\u001b[39;00m \u001b[38;5;21mlaunch\u001b[39m(\u001b[38;5;28mself\u001b[39m, func, count, stream, args):\n\u001b[0;32m--> 151\u001b[0m     \u001b[43mfunc\u001b[49m\u001b[38;5;241;43m.\u001b[39;49m\u001b[43mforall\u001b[49m\u001b[43m(\u001b[49m\u001b[43mcount\u001b[49m\u001b[43m,\u001b[49m\u001b[43m \u001b[49m\u001b[43mstream\u001b[49m\u001b[38;5;241;43m=\u001b[39;49m\u001b[43mstream\u001b[49m\u001b[43m)\u001b[49m\u001b[43m(\u001b[49m\u001b[38;5;241;43m*\u001b[39;49m\u001b[43margs\u001b[49m\u001b[43m)\u001b[49m\n",
      "File \u001b[0;32m~/.conda/envs/coffea-gpu/lib/python3.11/site-packages/numba/cuda/dispatcher.py:486\u001b[0m, in \u001b[0;36mForAll.__call__\u001b[0;34m(self, *args)\u001b[0m\n\u001b[1;32m    484\u001b[0m     specialized \u001b[38;5;241m=\u001b[39m \u001b[38;5;28mself\u001b[39m\u001b[38;5;241m.\u001b[39mdispatcher\n\u001b[1;32m    485\u001b[0m \u001b[38;5;28;01melse\u001b[39;00m:\n\u001b[0;32m--> 486\u001b[0m     specialized \u001b[38;5;241m=\u001b[39m \u001b[38;5;28;43mself\u001b[39;49m\u001b[38;5;241;43m.\u001b[39;49m\u001b[43mdispatcher\u001b[49m\u001b[38;5;241;43m.\u001b[39;49m\u001b[43mspecialize\u001b[49m\u001b[43m(\u001b[49m\u001b[38;5;241;43m*\u001b[39;49m\u001b[43margs\u001b[49m\u001b[43m)\u001b[49m\n\u001b[1;32m    487\u001b[0m blockdim \u001b[38;5;241m=\u001b[39m \u001b[38;5;28mself\u001b[39m\u001b[38;5;241m.\u001b[39m_compute_thread_per_block(specialized)\n\u001b[1;32m    488\u001b[0m griddim \u001b[38;5;241m=\u001b[39m (\u001b[38;5;28mself\u001b[39m\u001b[38;5;241m.\u001b[39mntasks \u001b[38;5;241m+\u001b[39m blockdim \u001b[38;5;241m-\u001b[39m \u001b[38;5;241m1\u001b[39m) \u001b[38;5;241m/\u001b[39m\u001b[38;5;241m/\u001b[39m blockdim\n",
      "File \u001b[0;32m~/.conda/envs/coffea-gpu/lib/python3.11/site-packages/numba/cuda/dispatcher.py:723\u001b[0m, in \u001b[0;36mCUDADispatcher.specialize\u001b[0;34m(self, *args)\u001b[0m\n\u001b[1;32m    720\u001b[0m targetoptions \u001b[38;5;241m=\u001b[39m \u001b[38;5;28mself\u001b[39m\u001b[38;5;241m.\u001b[39mtargetoptions\n\u001b[1;32m    721\u001b[0m specialization \u001b[38;5;241m=\u001b[39m CUDADispatcher(\u001b[38;5;28mself\u001b[39m\u001b[38;5;241m.\u001b[39mpy_func,\n\u001b[1;32m    722\u001b[0m                                 targetoptions\u001b[38;5;241m=\u001b[39mtargetoptions)\n\u001b[0;32m--> 723\u001b[0m \u001b[43mspecialization\u001b[49m\u001b[38;5;241;43m.\u001b[39;49m\u001b[43mcompile\u001b[49m\u001b[43m(\u001b[49m\u001b[43margtypes\u001b[49m\u001b[43m)\u001b[49m\n\u001b[1;32m    724\u001b[0m specialization\u001b[38;5;241m.\u001b[39mdisable_compile()\n\u001b[1;32m    725\u001b[0m specialization\u001b[38;5;241m.\u001b[39m_specialized \u001b[38;5;241m=\u001b[39m \u001b[38;5;28;01mTrue\u001b[39;00m\n",
      "File \u001b[0;32m~/.conda/envs/coffea-gpu/lib/python3.11/site-packages/numba/cuda/dispatcher.py:934\u001b[0m, in \u001b[0;36mCUDADispatcher.compile\u001b[0;34m(self, sig)\u001b[0m\n\u001b[1;32m    932\u001b[0m     kernel \u001b[38;5;241m=\u001b[39m _Kernel(\u001b[38;5;28mself\u001b[39m\u001b[38;5;241m.\u001b[39mpy_func, argtypes, \u001b[38;5;241m*\u001b[39m\u001b[38;5;241m*\u001b[39m\u001b[38;5;28mself\u001b[39m\u001b[38;5;241m.\u001b[39mtargetoptions)\n\u001b[1;32m    933\u001b[0m     \u001b[38;5;66;03m# We call bind to force codegen, so that there is a cubin to cache\u001b[39;00m\n\u001b[0;32m--> 934\u001b[0m     \u001b[43mkernel\u001b[49m\u001b[38;5;241;43m.\u001b[39;49m\u001b[43mbind\u001b[49m\u001b[43m(\u001b[49m\u001b[43m)\u001b[49m\n\u001b[1;32m    935\u001b[0m     \u001b[38;5;28mself\u001b[39m\u001b[38;5;241m.\u001b[39m_cache\u001b[38;5;241m.\u001b[39msave_overload(sig, kernel)\n\u001b[1;32m    937\u001b[0m \u001b[38;5;28mself\u001b[39m\u001b[38;5;241m.\u001b[39madd_overload(kernel, argtypes)\n",
      "File \u001b[0;32m~/.conda/envs/coffea-gpu/lib/python3.11/site-packages/numba/cuda/dispatcher.py:197\u001b[0m, in \u001b[0;36m_Kernel.bind\u001b[0;34m(self)\u001b[0m\n\u001b[1;32m    193\u001b[0m \u001b[38;5;28;01mdef\u001b[39;00m \u001b[38;5;21mbind\u001b[39m(\u001b[38;5;28mself\u001b[39m):\n\u001b[1;32m    194\u001b[0m \u001b[38;5;250m    \u001b[39m\u001b[38;5;124;03m\"\"\"\u001b[39;00m\n\u001b[1;32m    195\u001b[0m \u001b[38;5;124;03m    Force binding to current CUDA context\u001b[39;00m\n\u001b[1;32m    196\u001b[0m \u001b[38;5;124;03m    \"\"\"\u001b[39;00m\n\u001b[0;32m--> 197\u001b[0m     \u001b[38;5;28;43mself\u001b[39;49m\u001b[38;5;241;43m.\u001b[39;49m\u001b[43m_codelibrary\u001b[49m\u001b[38;5;241;43m.\u001b[39;49m\u001b[43mget_cufunc\u001b[49m\u001b[43m(\u001b[49m\u001b[43m)\u001b[49m\n",
      "File \u001b[0;32m~/.conda/envs/coffea-gpu/lib/python3.11/site-packages/numba/cuda/codegen.py:195\u001b[0m, in \u001b[0;36mCUDACodeLibrary.get_cufunc\u001b[0;34m(self)\u001b[0m\n\u001b[1;32m    192\u001b[0m \u001b[38;5;28;01mif\u001b[39;00m cufunc:\n\u001b[1;32m    193\u001b[0m     \u001b[38;5;28;01mreturn\u001b[39;00m cufunc\n\u001b[0;32m--> 195\u001b[0m cubin \u001b[38;5;241m=\u001b[39m \u001b[38;5;28;43mself\u001b[39;49m\u001b[38;5;241;43m.\u001b[39;49m\u001b[43mget_cubin\u001b[49m\u001b[43m(\u001b[49m\u001b[43mcc\u001b[49m\u001b[38;5;241;43m=\u001b[39;49m\u001b[43mdevice\u001b[49m\u001b[38;5;241;43m.\u001b[39;49m\u001b[43mcompute_capability\u001b[49m\u001b[43m)\u001b[49m\n\u001b[1;32m    196\u001b[0m module \u001b[38;5;241m=\u001b[39m ctx\u001b[38;5;241m.\u001b[39mcreate_module_image(cubin)\n\u001b[1;32m    198\u001b[0m \u001b[38;5;66;03m# Load\u001b[39;00m\n",
      "File \u001b[0;32m~/.conda/envs/coffea-gpu/lib/python3.11/site-packages/numba/cuda/codegen.py:170\u001b[0m, in \u001b[0;36mCUDACodeLibrary.get_cubin\u001b[0;34m(self, cc)\u001b[0m\n\u001b[1;32m    168\u001b[0m ptxes \u001b[38;5;241m=\u001b[39m \u001b[38;5;28mself\u001b[39m\u001b[38;5;241m.\u001b[39m_get_ptxes(cc\u001b[38;5;241m=\u001b[39mcc)\n\u001b[1;32m    169\u001b[0m \u001b[38;5;28;01mfor\u001b[39;00m ptx \u001b[38;5;129;01min\u001b[39;00m ptxes:\n\u001b[0;32m--> 170\u001b[0m     \u001b[43mlinker\u001b[49m\u001b[38;5;241;43m.\u001b[39;49m\u001b[43madd_ptx\u001b[49m\u001b[43m(\u001b[49m\u001b[43mptx\u001b[49m\u001b[38;5;241;43m.\u001b[39;49m\u001b[43mencode\u001b[49m\u001b[43m(\u001b[49m\u001b[43m)\u001b[49m\u001b[43m)\u001b[49m\n\u001b[1;32m    171\u001b[0m \u001b[38;5;28;01mfor\u001b[39;00m path \u001b[38;5;129;01min\u001b[39;00m \u001b[38;5;28mself\u001b[39m\u001b[38;5;241m.\u001b[39m_linking_files:\n\u001b[1;32m    172\u001b[0m     linker\u001b[38;5;241m.\u001b[39madd_file_guess_ext(path)\n",
      "File \u001b[0;32m~/.conda/envs/coffea-gpu/lib/python3.11/site-packages/numba/cuda/cudadrv/driver.py:2827\u001b[0m, in \u001b[0;36mCtypesLinker.add_ptx\u001b[0;34m(self, ptx, name)\u001b[0m\n\u001b[1;32m   2824\u001b[0m     driver\u001b[38;5;241m.\u001b[39mcuLinkAddData(\u001b[38;5;28mself\u001b[39m\u001b[38;5;241m.\u001b[39mhandle, enums\u001b[38;5;241m.\u001b[39mCU_JIT_INPUT_PTX,\n\u001b[1;32m   2825\u001b[0m                          ptxbuf, \u001b[38;5;28mlen\u001b[39m(ptx), namebuf, \u001b[38;5;241m0\u001b[39m, \u001b[38;5;28;01mNone\u001b[39;00m, \u001b[38;5;28;01mNone\u001b[39;00m)\n\u001b[1;32m   2826\u001b[0m \u001b[38;5;28;01mexcept\u001b[39;00m CudaAPIError \u001b[38;5;28;01mas\u001b[39;00m e:\n\u001b[0;32m-> 2827\u001b[0m     \u001b[38;5;28;01mraise\u001b[39;00m LinkerError(\u001b[38;5;124m\"\u001b[39m\u001b[38;5;132;01m%s\u001b[39;00m\u001b[38;5;130;01m\\n\u001b[39;00m\u001b[38;5;132;01m%s\u001b[39;00m\u001b[38;5;124m\"\u001b[39m \u001b[38;5;241m%\u001b[39m (e, \u001b[38;5;28mself\u001b[39m\u001b[38;5;241m.\u001b[39merror_log))\n",
      "\u001b[0;31mLinkerError\u001b[0m: [222] Call to cuLinkAddData results in CUDA_ERROR_UNSUPPORTED_PTX_VERSION\nptxas application ptx input, line 9; fatal   : Unsupported .version 8.4; current version is '8.2'"
     ]
    }
   ],
   "source": [
    "import awkward as ak\n",
    "import cupy as cp\n",
    "import numba as nb\n",
    "\n",
    "ak.numba.register_and_check()\n",
    "\n",
    "@nb.vectorize(\n",
    "    [\n",
    "        nb.float32(nb.float32),\n",
    "        nb.float64(nb.float64),\n",
    "    ]\n",
    ")\n",
    "def _square(x):\n",
    "    return x * x\n",
    "\n",
    "@nb.vectorize(\n",
    "    [\n",
    "        nb.float32(nb.float32),\n",
    "        nb.float64(nb.float64),\n",
    "    ],\n",
    "    target=\"cuda\",\n",
    ")\n",
    "def _square_cuda(x):\n",
    "    return x * x\n",
    "\n",
    "def square_cuda_wrapped(x):\n",
    "    counts = x.layout.offsets.data[1:] - x.layout.offsets.data[:-1]\n",
    "    return ak.unflatten(cp.array(_square_cuda(ak.flatten(x))), counts)\n",
    "\n",
    "counts = cp.random.poisson(lam=3, size=5000000)\n",
    "flat_values = cp.random.normal(size=int(counts.sum()))\n",
    "\n",
    "values = ak.unflatten(flat_values, counts)\n",
    "\n",
    "values2_cpu = _square(ak.to_backend(values, \"cpu\"))\n",
    "\n",
    "print(values2_cpu)\n",
    "\n",
    "values2 = square_cuda_wrapped(values)\n",
    "\n",
    "print(values2)"
   ]
  },
  {
   "cell_type": "code",
   "execution_count": 16,
   "id": "95b6ad44-eee0-4423-974e-30183dbb6e10",
   "metadata": {},
   "outputs": [
    {
     "name": "stdout",
     "output_type": "stream",
     "text": [
      "[[0.045683051144471104, 0.27795220821182787, ..., 0.8520697217330707], ..., []] cuda\n"
     ]
    },
    {
     "ename": "TypeError",
     "evalue": "Unsupported type <class 'awkward.highlevel.Array'>",
     "output_type": "error",
     "traceback": [
      "\u001b[0;31m---------------------------------------------------------------------------\u001b[0m",
      "\u001b[0;31mTypeError\u001b[0m                                 Traceback (most recent call last)",
      "Cell \u001b[0;32mIn[16], line 13\u001b[0m\n\u001b[1;32m     10\u001b[0m np_vals \u001b[38;5;241m=\u001b[39m np\u001b[38;5;241m.\u001b[39mabs(values)\n\u001b[1;32m     11\u001b[0m \u001b[38;5;28mprint\u001b[39m(np_vals, ak\u001b[38;5;241m.\u001b[39mbackend(np_vals))\n\u001b[0;32m---> 13\u001b[0m cp_vals \u001b[38;5;241m=\u001b[39m \u001b[43mcp\u001b[49m\u001b[38;5;241;43m.\u001b[39;49m\u001b[43mabs\u001b[49m\u001b[43m(\u001b[49m\u001b[43mvalues\u001b[49m\u001b[43m)\u001b[49m\n\u001b[1;32m     14\u001b[0m \u001b[38;5;28mprint\u001b[39m(cp_vals, ak\u001b[38;5;241m.\u001b[39mbackend(cp_vals))\n",
      "File \u001b[0;32mcupy/_core/_kernel.pyx:1283\u001b[0m, in \u001b[0;36mcupy._core._kernel.ufunc.__call__\u001b[0;34m()\u001b[0m\n",
      "File \u001b[0;32mcupy/_core/_kernel.pyx:159\u001b[0m, in \u001b[0;36mcupy._core._kernel._preprocess_args\u001b[0;34m()\u001b[0m\n",
      "File \u001b[0;32mcupy/_core/_kernel.pyx:145\u001b[0m, in \u001b[0;36mcupy._core._kernel._preprocess_arg\u001b[0;34m()\u001b[0m\n",
      "\u001b[0;31mTypeError\u001b[0m: Unsupported type <class 'awkward.highlevel.Array'>"
     ]
    }
   ],
   "source": [
    "import awkward as ak\n",
    "import cupy as cp\n",
    "import numpy as np\n",
    "\n",
    "counts = cp.random.poisson(lam=3, size=5000000)\n",
    "flat_values = cp.random.normal(size=int(counts.sum()))\n",
    "\n",
    "values = ak.unflatten(flat_values, counts)\n",
    "\n",
    "np_vals = np.abs(values)\n",
    "print(np_vals, ak.backend(np_vals))\n",
    "\n",
    "cp_vals = cp.abs(values)\n",
    "print(cp_vals, ak.backend(cp_vals))"
   ]
  },
  {
   "cell_type": "code",
   "execution_count": null,
   "id": "67b9440e-f080-450c-b3a1-ae9290464b88",
   "metadata": {},
   "outputs": [],
   "source": [
    "values"
   ]
  },
  {
   "cell_type": "code",
   "execution_count": null,
   "id": "2902f29d-ce6c-44f0-bf01-c7c99f3c6da9",
   "metadata": {},
   "outputs": [],
   "source": [
    "dir(nb.cuda)"
   ]
  },
  {
   "cell_type": "code",
   "execution_count": 28,
   "id": "20730f0e-0cc2-4f27-9af8-b6168df5925a",
   "metadata": {},
   "outputs": [
    {
     "data": {
      "text/plain": [
       "['T',\n",
       " '__array__',\n",
       " '__class__',\n",
       " '__cuda_array_interface__',\n",
       " '__cuda_memory__',\n",
       " '__cuda_ndarray__',\n",
       " '__delattr__',\n",
       " '__dict__',\n",
       " '__dir__',\n",
       " '__doc__',\n",
       " '__eq__',\n",
       " '__format__',\n",
       " '__ge__',\n",
       " '__getattribute__',\n",
       " '__getitem__',\n",
       " '__getstate__',\n",
       " '__gt__',\n",
       " '__hash__',\n",
       " '__init__',\n",
       " '__init_subclass__',\n",
       " '__le__',\n",
       " '__len__',\n",
       " '__lt__',\n",
       " '__module__',\n",
       " '__ne__',\n",
       " '__new__',\n",
       " '__reduce__',\n",
       " '__reduce_ex__',\n",
       " '__repr__',\n",
       " '__setattr__',\n",
       " '__setitem__',\n",
       " '__sizeof__',\n",
       " '__str__',\n",
       " '__subclasshook__',\n",
       " '__weakref__',\n",
       " '_default_stream',\n",
       " '_do_getitem',\n",
       " '_do_setitem',\n",
       " '_dummy',\n",
       " '_numba_type_',\n",
       " 'alloc_size',\n",
       " 'as_cuda_arg',\n",
       " 'bind',\n",
       " 'copy_to_device',\n",
       " 'copy_to_host',\n",
       " 'device_ctypes_pointer',\n",
       " 'dtype',\n",
       " 'flags',\n",
       " 'get_ipc_handle',\n",
       " 'getitem',\n",
       " 'gpu_data',\n",
       " 'is_c_contiguous',\n",
       " 'is_f_contiguous',\n",
       " 'nbytes',\n",
       " 'ndim',\n",
       " 'ravel',\n",
       " 'reshape',\n",
       " 'setitem',\n",
       " 'shape',\n",
       " 'size',\n",
       " 'split',\n",
       " 'squeeze',\n",
       " 'stream',\n",
       " 'strides',\n",
       " 'transpose',\n",
       " 'view']"
      ]
     },
     "execution_count": 28,
     "metadata": {},
     "output_type": "execute_result"
    }
   ],
   "source": [
    "dir(values2)"
   ]
  },
  {
   "cell_type": "code",
   "execution_count": 1,
   "id": "d5074ad2-0162-4b5c-ab25-b446e3a6e5d6",
   "metadata": {},
   "outputs": [
    {
     "data": {
      "text/plain": [
       "True"
      ]
     },
     "execution_count": 1,
     "metadata": {},
     "output_type": "execute_result"
    }
   ],
   "source": [
    "import cupy as cp\n",
    "import numpy as np\n",
    "\n",
    "cp.float32 == np.float32"
   ]
  },
  {
   "cell_type": "code",
   "execution_count": null,
   "id": "949b45de-9e4b-4760-b2d2-0331f272ac70",
   "metadata": {},
   "outputs": [],
   "source": []
  }
 ],
 "metadata": {
  "kernelspec": {
   "display_name": "Python [conda env:.conda-coffea-gpu]",
   "language": "python",
   "name": "conda-env-.conda-coffea-gpu-py"
  },
  "language_info": {
   "codemirror_mode": {
    "name": "ipython",
    "version": 3
   },
   "file_extension": ".py",
   "mimetype": "text/x-python",
   "name": "python",
   "nbconvert_exporter": "python",
   "pygments_lexer": "ipython3",
   "version": "3.11.9"
  }
 },
 "nbformat": 4,
 "nbformat_minor": 5
}
